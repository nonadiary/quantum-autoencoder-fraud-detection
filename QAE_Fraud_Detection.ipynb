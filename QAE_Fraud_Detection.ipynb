{
 "cells": [
  {
   "cell_type": "code",
   "execution_count": 6,
   "id": "407209c0",
   "metadata": {},
   "outputs": [],
   "source": [
    "# Quantum Autoencoder for Enhanced Fraud Detection in Imbalanced Credit Card Dataset\n",
    "# Implementation based on the IEEE Access 2024 paper by Huot et al.\n",
    "# DOI: 10.1109/ACCESS.2024.3496901\n",
    "\n",
    "# Core libraries for data processing and machine learning\n",
    "import numpy as np\n",
    "import pandas as pd\n",
    "from sklearn.preprocessing import StandardScaler\n",
    "from sklearn.model_selection import train_test_split\n",
    "from sklearn.metrics import (confusion_matrix, accuracy_score, precision_score,\n",
    "                             recall_score, f1_score, roc_auc_score)\n",
    "from sklearn.decomposition import PCA\n",
    "from tqdm import tqdm\n",
    "\n",
    "# Quantum machine learning framework\n",
    "import pennylane as qml\n",
    "import pennylane.numpy as pnp  # PennyLane-specific numpy for automatic differentiation"
   ]
  },
  {
   "cell_type": "code",
   "execution_count": 7,
   "id": "9b141a8a",
   "metadata": {},
   "outputs": [],
   "source": [
    "# ==========================================\n",
    "# Data Loading and Preprocessing Pipeline\n",
    "# ==========================================\n",
    "\n",
    "# Load preprocessed credit card fraud dataset\n",
    "# The dataset contains anonymized features V1-V28 (PCA transformed)\n",
    "# and 'Class' label (0: normal, 1: fraud)\n",
    "df = pd.read_csv(\"preprocessed-creditcard.csv\")\n",
    "X = df.drop(\"Class\", axis=1).values  # Feature matrix\n",
    "y = df[\"Class\"].values                # Target labels\n",
    "\n",
    "# Stratified train-test split to maintain class distribution\n",
    "X_train, X_test, y_train, y_test = train_test_split(\n",
    "    X, y, test_size=0.2, stratify=y, random_state=42\n",
    ")\n",
    "\n",
    "# Feature standardization using Z-score normalization\n",
    "# Essential for quantum circuits as rotation angles should be bounded\n",
    "scaler = StandardScaler()\n",
    "X_train = scaler.fit_transform(X_train)\n",
    "X_test  = scaler.transform(X_test)\n",
    "\n",
    "# Dimensionality reduction using PCA to match quantum register size\n",
    "# Reduces 30 features to 4 qubits for quantum processing\n",
    "pca = PCA(n_components=4, random_state=42)\n",
    "X_train_4d = pca.fit_transform(X_train)\n",
    "X_test_4d  = pca.transform(X_test)"
   ]
  },
  {
   "cell_type": "code",
   "execution_count": 8,
   "id": "c03572c0",
   "metadata": {},
   "outputs": [],
   "source": [
    "# ==========================================\n",
    "# Quantum Autoencoder Architecture\n",
    "# ==========================================\n",
    "\n",
    "# Quantum system configuration\n",
    "n_qubits = 4  # Number of qubits matching PCA dimensions\n",
    "L = 4         # Number of variational layers for expressivity\n",
    "dev = qml.device(\"lightning.qubit\", wires=n_qubits)\n",
    "\n",
    "def qae_layer(theta):\n",
    "    \"\"\"\n",
    "    Single variational layer of the Quantum Autoencoder.\n",
    "    \n",
    "    Architecture follows the paper's design:\n",
    "    1. Parameterized single-qubit rotations (RX, RY, RZ) for each qubit\n",
    "    2. Circular CNOT gates for entanglement generation\n",
    "    \n",
    "    Args:\n",
    "        theta: Parameter tensor of shape (n_qubits, 3) for rotation angles\n",
    "    \"\"\"\n",
    "    # Apply parameterized rotations to each qubit\n",
    "    # Each qubit gets 3 rotation parameters (X, Y, Z rotations)\n",
    "    for w in range(n_qubits):\n",
    "        qml.RX(theta[w, 0], wires=w)  # Rotation around X-axis\n",
    "        qml.RY(theta[w, 1], wires=w)  # Rotation around Y-axis  \n",
    "        qml.RZ(theta[w, 2], wires=w)  # Rotation around Z-axis\n",
    "    \n",
    "    # Circular entangling layer using CNOT gates\n",
    "    # Creates quantum correlations between neighboring qubits\n",
    "    for w in range(n_qubits):\n",
    "        qml.CNOT(wires=[w, (w + 1) % n_qubits])\n",
    "\n",
    "@qml.qnode(dev)\n",
    "def qae_circuit(x, weights):\n",
    "    \"\"\"\n",
    "    Complete Quantum Autoencoder circuit.\n",
    "    \n",
    "    Process:\n",
    "    1. Data encoding: Maps classical data to quantum states\n",
    "    2. Variational ansatz: Trainable quantum transformations\n",
    "    3. Measurement: Extract reconstruction fidelity from trash qubit\n",
    "    \n",
    "    Args:\n",
    "        x: Input feature vector (4D after PCA)\n",
    "        weights: Variational parameters of shape (L, n_qubits, 3)\n",
    "    \n",
    "    Returns:\n",
    "        Expectation value of Pauli-Z on the trash qubit (qubit 3)\n",
    "    \"\"\"\n",
    "    # Data encoding: Map classical features to quantum state amplitudes\n",
    "    # Uses Y-rotations as recommended for better gradient flow\n",
    "    qml.AngleEmbedding(features=x, wires=range(n_qubits), rotation=\"Y\")\n",
    "    \n",
    "    # Apply L layers of variational quantum transformations\n",
    "    # Enables the autoencoder to learn complex data representations\n",
    "    for l in range(L):\n",
    "        qae_layer(weights[l])\n",
    "    \n",
    "    # Measure trash qubit (last qubit) to extract reconstruction quality\n",
    "    # High fidelity reconstruction → trash qubit in |0⟩ state → ⟨Z⟩ ≈ +1\n",
    "    # Poor reconstruction → mixed state → ⟨Z⟩ ≈ 0\n",
    "    return qml.expval(qml.PauliZ(n_qubits - 1))"
   ]
  },
  {
   "cell_type": "code",
   "execution_count": 9,
   "id": "36630627",
   "metadata": {},
   "outputs": [],
   "source": [
    "def cost_fn(weights, X_batch):\n",
    "    \"\"\"\n",
    "    Quantum Autoencoder cost function for batch training.\n",
    "    \n",
    "    The cost function implements the reconstruction error minimization:\n",
    "    Cost = 1/N * Σ(1 - fidelity_i)\n",
    "    \n",
    "    Where fidelity = (1 + ⟨Z⟩)/2 represents the probability of\n",
    "    the trash qubit being in |0⟩ state (perfect reconstruction).\n",
    "    \n",
    "    Args:\n",
    "        weights: Variational parameters for the quantum circuit\n",
    "        X_batch: Mini-batch of training samples\n",
    "    \n",
    "    Returns:\n",
    "        Average reconstruction error for the batch\n",
    "    \"\"\"\n",
    "    expvals = []\n",
    "    \n",
    "    # Process each sample in the batch\n",
    "    for sample in X_batch:\n",
    "        # Convert to PennyLane tensor for automatic differentiation\n",
    "        features = pnp.array(sample, requires_grad=False)\n",
    "        \n",
    "        # Forward pass through quantum autoencoder\n",
    "        # Returns ⟨Z⟩ expectation value from trash qubit measurement\n",
    "        expval = qae_circuit(features, weights)\n",
    "        expvals.append(expval)\n",
    "    \n",
    "    # Convert expectation values to reconstruction fidelities\n",
    "    # Fidelity = (1 + ⟨Z⟩)/2 maps [-1,1] → [0,1]\n",
    "    # ⟨Z⟩ = +1 → fidelity = 1 (perfect reconstruction)\n",
    "    # ⟨Z⟩ = -1 → fidelity = 0 (poor reconstruction)\n",
    "    fidelities = [(1 + e) / 2 for e in expvals]\n",
    "    \n",
    "    # Compute reconstruction errors (1 - fidelity)\n",
    "    # Minimizing this encourages high fidelity reconstructions\n",
    "    errors = [1 - f for f in fidelities]\n",
    "    \n",
    "    # Return mean reconstruction error across the batch\n",
    "    return pnp.mean(pnp.stack(errors))"
   ]
  },
  {
   "cell_type": "code",
   "execution_count": 10,
   "id": "6a0458f0",
   "metadata": {},
   "outputs": [
    {
     "name": "stdout",
     "output_type": "stream",
     "text": [
      "Starting Quantum Autoencoder Training...\n",
      "Dataset: 756 samples, 4 qubits, 4 layers\n",
      "------------------------------------------------------------\n"
     ]
    },
    {
     "name": "stderr",
     "output_type": "stream",
     "text": [
      "Epoch 1/50: 100%|███████████████████████████████| 48/48 [00:24<00:00,  2.00it/s]\n",
      "\n"
     ]
    },
    {
     "name": "stdout",
     "output_type": "stream",
     "text": [
      "Epoch  1  Reconstruction Loss = 0.6238\n"
     ]
    },
    {
     "name": "stderr",
     "output_type": "stream",
     "text": [
      "Epoch 2/50: 100%|███████████████████████████████| 48/48 [00:31<00:00,  1.53it/s]\n",
      "\n"
     ]
    },
    {
     "name": "stdout",
     "output_type": "stream",
     "text": [
      "Epoch  2  Reconstruction Loss = 0.5834\n"
     ]
    },
    {
     "name": "stderr",
     "output_type": "stream",
     "text": [
      "Epoch 3/50: 100%|███████████████████████████████| 48/48 [00:30<00:00,  1.58it/s]\n",
      "\n"
     ]
    },
    {
     "name": "stdout",
     "output_type": "stream",
     "text": [
      "Epoch  3  Reconstruction Loss = 0.5279\n"
     ]
    },
    {
     "name": "stderr",
     "output_type": "stream",
     "text": [
      "Epoch 4/50: 100%|███████████████████████████████| 48/48 [00:25<00:00,  1.92it/s]\n",
      "\n"
     ]
    },
    {
     "name": "stdout",
     "output_type": "stream",
     "text": [
      "Epoch  4  Reconstruction Loss = 0.4707\n"
     ]
    },
    {
     "name": "stderr",
     "output_type": "stream",
     "text": [
      "Epoch 5/50: 100%|███████████████████████████████| 48/48 [00:23<00:00,  2.01it/s]\n",
      "\n"
     ]
    },
    {
     "name": "stdout",
     "output_type": "stream",
     "text": [
      "Epoch  5  Reconstruction Loss = 0.4221\n"
     ]
    },
    {
     "name": "stderr",
     "output_type": "stream",
     "text": [
      "Epoch 6/50: 100%|███████████████████████████████| 48/48 [00:23<00:00,  2.06it/s]\n",
      "\n"
     ]
    },
    {
     "name": "stdout",
     "output_type": "stream",
     "text": [
      "Epoch  6  Reconstruction Loss = 0.3845\n"
     ]
    },
    {
     "name": "stderr",
     "output_type": "stream",
     "text": [
      "Epoch 7/50: 100%|███████████████████████████████| 48/48 [00:24<00:00,  1.94it/s]\n",
      "\n"
     ]
    },
    {
     "name": "stdout",
     "output_type": "stream",
     "text": [
      "Epoch  7  Reconstruction Loss = 0.3557\n"
     ]
    },
    {
     "name": "stderr",
     "output_type": "stream",
     "text": [
      "Epoch 8/50: 100%|███████████████████████████████| 48/48 [00:22<00:00,  2.11it/s]\n",
      "\n"
     ]
    },
    {
     "name": "stdout",
     "output_type": "stream",
     "text": [
      "Epoch  8  Reconstruction Loss = 0.3333\n"
     ]
    },
    {
     "name": "stderr",
     "output_type": "stream",
     "text": [
      "Epoch 9/50: 100%|███████████████████████████████| 48/48 [00:25<00:00,  1.92it/s]\n",
      "\n"
     ]
    },
    {
     "name": "stdout",
     "output_type": "stream",
     "text": [
      "Epoch  9  Reconstruction Loss = 0.3154\n"
     ]
    },
    {
     "name": "stderr",
     "output_type": "stream",
     "text": [
      "Epoch 10/50: 100%|██████████████████████████████| 48/48 [00:25<00:00,  1.91it/s]\n",
      "\n"
     ]
    },
    {
     "name": "stdout",
     "output_type": "stream",
     "text": [
      "Epoch 10  Reconstruction Loss = 0.3009\n"
     ]
    },
    {
     "name": "stderr",
     "output_type": "stream",
     "text": [
      "Epoch 11/50: 100%|██████████████████████████████| 48/48 [00:21<00:00,  2.20it/s]\n",
      "\n"
     ]
    },
    {
     "name": "stdout",
     "output_type": "stream",
     "text": [
      "Epoch 11  Reconstruction Loss = 0.2887\n"
     ]
    },
    {
     "name": "stderr",
     "output_type": "stream",
     "text": [
      "Epoch 12/50: 100%|██████████████████████████████| 48/48 [00:23<00:00,  2.00it/s]\n",
      "\n"
     ]
    },
    {
     "name": "stdout",
     "output_type": "stream",
     "text": [
      "Epoch 12  Reconstruction Loss = 0.2777\n"
     ]
    },
    {
     "name": "stderr",
     "output_type": "stream",
     "text": [
      "Epoch 13/50: 100%|██████████████████████████████| 48/48 [00:23<00:00,  2.01it/s]\n",
      "\n"
     ]
    },
    {
     "name": "stdout",
     "output_type": "stream",
     "text": [
      "Epoch 13  Reconstruction Loss = 0.2674\n"
     ]
    },
    {
     "name": "stderr",
     "output_type": "stream",
     "text": [
      "Epoch 14/50: 100%|██████████████████████████████| 48/48 [00:24<00:00,  1.93it/s]\n",
      "\n"
     ]
    },
    {
     "name": "stdout",
     "output_type": "stream",
     "text": [
      "Epoch 14  Reconstruction Loss = 0.2574\n"
     ]
    },
    {
     "name": "stderr",
     "output_type": "stream",
     "text": [
      "Epoch 15/50: 100%|██████████████████████████████| 48/48 [00:25<00:00,  1.89it/s]\n",
      "\n"
     ]
    },
    {
     "name": "stdout",
     "output_type": "stream",
     "text": [
      "Epoch 15  Reconstruction Loss = 0.2477\n"
     ]
    },
    {
     "name": "stderr",
     "output_type": "stream",
     "text": [
      "Epoch 16/50: 100%|██████████████████████████████| 48/48 [00:22<00:00,  2.17it/s]\n",
      "\n"
     ]
    },
    {
     "name": "stdout",
     "output_type": "stream",
     "text": [
      "Epoch 16  Reconstruction Loss = 0.2382\n"
     ]
    },
    {
     "name": "stderr",
     "output_type": "stream",
     "text": [
      "Epoch 17/50: 100%|██████████████████████████████| 48/48 [00:23<00:00,  2.05it/s]\n",
      "\n"
     ]
    },
    {
     "name": "stdout",
     "output_type": "stream",
     "text": [
      "Epoch 17  Reconstruction Loss = 0.2292\n"
     ]
    },
    {
     "name": "stderr",
     "output_type": "stream",
     "text": [
      "Epoch 18/50: 100%|██████████████████████████████| 48/48 [00:22<00:00,  2.13it/s]\n",
      "\n"
     ]
    },
    {
     "name": "stdout",
     "output_type": "stream",
     "text": [
      "Epoch 18  Reconstruction Loss = 0.2208\n"
     ]
    },
    {
     "name": "stderr",
     "output_type": "stream",
     "text": [
      "Epoch 19/50: 100%|██████████████████████████████| 48/48 [00:24<00:00,  2.00it/s]\n",
      "\n"
     ]
    },
    {
     "name": "stdout",
     "output_type": "stream",
     "text": [
      "Epoch 19  Reconstruction Loss = 0.2129\n"
     ]
    },
    {
     "name": "stderr",
     "output_type": "stream",
     "text": [
      "Epoch 20/50: 100%|██████████████████████████████| 48/48 [00:25<00:00,  1.92it/s]\n",
      "\n"
     ]
    },
    {
     "name": "stdout",
     "output_type": "stream",
     "text": [
      "Epoch 20  Reconstruction Loss = 0.2056\n"
     ]
    },
    {
     "name": "stderr",
     "output_type": "stream",
     "text": [
      "Epoch 21/50: 100%|██████████████████████████████| 48/48 [00:22<00:00,  2.13it/s]\n",
      "\n"
     ]
    },
    {
     "name": "stdout",
     "output_type": "stream",
     "text": [
      "Epoch 21  Reconstruction Loss = 0.1989\n"
     ]
    },
    {
     "name": "stderr",
     "output_type": "stream",
     "text": [
      "Epoch 22/50: 100%|██████████████████████████████| 48/48 [00:24<00:00,  1.97it/s]\n",
      "\n"
     ]
    },
    {
     "name": "stdout",
     "output_type": "stream",
     "text": [
      "Epoch 22  Reconstruction Loss = 0.1928\n"
     ]
    },
    {
     "name": "stderr",
     "output_type": "stream",
     "text": [
      "Epoch 23/50: 100%|██████████████████████████████| 48/48 [00:22<00:00,  2.14it/s]\n",
      "\n"
     ]
    },
    {
     "name": "stdout",
     "output_type": "stream",
     "text": [
      "Epoch 23  Reconstruction Loss = 0.1872\n"
     ]
    },
    {
     "name": "stderr",
     "output_type": "stream",
     "text": [
      "Epoch 24/50: 100%|██████████████████████████████| 48/48 [00:23<00:00,  2.08it/s]\n",
      "\n"
     ]
    },
    {
     "name": "stdout",
     "output_type": "stream",
     "text": [
      "Epoch 24  Reconstruction Loss = 0.1822\n"
     ]
    },
    {
     "name": "stderr",
     "output_type": "stream",
     "text": [
      "Epoch 25/50: 100%|██████████████████████████████| 48/48 [00:24<00:00,  1.96it/s]\n",
      "\n"
     ]
    },
    {
     "name": "stdout",
     "output_type": "stream",
     "text": [
      "Epoch 25  Reconstruction Loss = 0.1776\n"
     ]
    },
    {
     "name": "stderr",
     "output_type": "stream",
     "text": [
      "Epoch 26/50: 100%|██████████████████████████████| 48/48 [00:22<00:00,  2.14it/s]\n",
      "\n"
     ]
    },
    {
     "name": "stdout",
     "output_type": "stream",
     "text": [
      "Epoch 26  Reconstruction Loss = 0.1736\n"
     ]
    },
    {
     "name": "stderr",
     "output_type": "stream",
     "text": [
      "Epoch 27/50: 100%|██████████████████████████████| 48/48 [00:24<00:00,  1.98it/s]\n",
      "\n"
     ]
    },
    {
     "name": "stdout",
     "output_type": "stream",
     "text": [
      "Epoch 27  Reconstruction Loss = 0.1699\n"
     ]
    },
    {
     "name": "stderr",
     "output_type": "stream",
     "text": [
      "Epoch 28/50: 100%|██████████████████████████████| 48/48 [00:22<00:00,  2.13it/s]\n",
      "\n"
     ]
    },
    {
     "name": "stdout",
     "output_type": "stream",
     "text": [
      "Epoch 28  Reconstruction Loss = 0.1667\n"
     ]
    },
    {
     "name": "stderr",
     "output_type": "stream",
     "text": [
      "Epoch 29/50: 100%|██████████████████████████████| 48/48 [00:22<00:00,  2.11it/s]\n",
      "\n"
     ]
    },
    {
     "name": "stdout",
     "output_type": "stream",
     "text": [
      "Epoch 29  Reconstruction Loss = 0.1638\n"
     ]
    },
    {
     "name": "stderr",
     "output_type": "stream",
     "text": [
      "Epoch 30/50: 100%|██████████████████████████████| 48/48 [00:25<00:00,  1.91it/s]\n",
      "\n"
     ]
    },
    {
     "name": "stdout",
     "output_type": "stream",
     "text": [
      "Epoch 30  Reconstruction Loss = 0.1612\n"
     ]
    },
    {
     "name": "stderr",
     "output_type": "stream",
     "text": [
      "Epoch 31/50: 100%|██████████████████████████████| 48/48 [00:23<00:00,  2.07it/s]\n",
      "\n"
     ]
    },
    {
     "name": "stdout",
     "output_type": "stream",
     "text": [
      "Epoch 31  Reconstruction Loss = 0.1589\n"
     ]
    },
    {
     "name": "stderr",
     "output_type": "stream",
     "text": [
      "Epoch 32/50: 100%|██████████████████████████████| 48/48 [00:24<00:00,  1.92it/s]\n",
      "\n"
     ]
    },
    {
     "name": "stdout",
     "output_type": "stream",
     "text": [
      "Epoch 32  Reconstruction Loss = 0.1569\n"
     ]
    },
    {
     "name": "stderr",
     "output_type": "stream",
     "text": [
      "Epoch 33/50: 100%|██████████████████████████████| 48/48 [00:24<00:00,  1.95it/s]\n",
      "\n"
     ]
    },
    {
     "name": "stdout",
     "output_type": "stream",
     "text": [
      "Epoch 33  Reconstruction Loss = 0.1550\n"
     ]
    },
    {
     "name": "stderr",
     "output_type": "stream",
     "text": [
      "Epoch 34/50: 100%|██████████████████████████████| 48/48 [00:22<00:00,  2.12it/s]\n",
      "\n"
     ]
    },
    {
     "name": "stdout",
     "output_type": "stream",
     "text": [
      "Epoch 34  Reconstruction Loss = 0.1534\n"
     ]
    },
    {
     "name": "stderr",
     "output_type": "stream",
     "text": [
      "Epoch 35/50: 100%|██████████████████████████████| 48/48 [00:24<00:00,  1.94it/s]\n",
      "\n"
     ]
    },
    {
     "name": "stdout",
     "output_type": "stream",
     "text": [
      "Epoch 35  Reconstruction Loss = 0.1519\n"
     ]
    },
    {
     "name": "stderr",
     "output_type": "stream",
     "text": [
      "Epoch 36/50: 100%|██████████████████████████████| 48/48 [00:22<00:00,  2.16it/s]\n",
      "\n"
     ]
    },
    {
     "name": "stdout",
     "output_type": "stream",
     "text": [
      "Epoch 36  Reconstruction Loss = 0.1506\n"
     ]
    },
    {
     "name": "stderr",
     "output_type": "stream",
     "text": [
      "Epoch 37/50: 100%|██████████████████████████████| 48/48 [00:23<00:00,  2.07it/s]\n",
      "\n"
     ]
    },
    {
     "name": "stdout",
     "output_type": "stream",
     "text": [
      "Epoch 37  Reconstruction Loss = 0.1494\n"
     ]
    },
    {
     "name": "stderr",
     "output_type": "stream",
     "text": [
      "Epoch 38/50: 100%|██████████████████████████████| 48/48 [00:23<00:00,  2.05it/s]\n",
      "\n"
     ]
    },
    {
     "name": "stdout",
     "output_type": "stream",
     "text": [
      "Epoch 38  Reconstruction Loss = 0.1483\n"
     ]
    },
    {
     "name": "stderr",
     "output_type": "stream",
     "text": [
      "Epoch 39/50: 100%|██████████████████████████████| 48/48 [00:24<00:00,  1.97it/s]\n",
      "\n"
     ]
    },
    {
     "name": "stdout",
     "output_type": "stream",
     "text": [
      "Epoch 39  Reconstruction Loss = 0.1473\n"
     ]
    },
    {
     "name": "stderr",
     "output_type": "stream",
     "text": [
      "Epoch 40/50: 100%|██████████████████████████████| 48/48 [00:23<00:00,  2.08it/s]\n",
      "\n"
     ]
    },
    {
     "name": "stdout",
     "output_type": "stream",
     "text": [
      "Epoch 40  Reconstruction Loss = 0.1463\n"
     ]
    },
    {
     "name": "stderr",
     "output_type": "stream",
     "text": [
      "Epoch 41/50: 100%|██████████████████████████████| 48/48 [00:22<00:00,  2.16it/s]\n",
      "\n"
     ]
    },
    {
     "name": "stdout",
     "output_type": "stream",
     "text": [
      "Epoch 41  Reconstruction Loss = 0.1453\n"
     ]
    },
    {
     "name": "stderr",
     "output_type": "stream",
     "text": [
      "Epoch 42/50: 100%|██████████████████████████████| 48/48 [00:24<00:00,  1.98it/s]\n",
      "\n"
     ]
    },
    {
     "name": "stdout",
     "output_type": "stream",
     "text": [
      "Epoch 42  Reconstruction Loss = 0.1444\n"
     ]
    },
    {
     "name": "stderr",
     "output_type": "stream",
     "text": [
      "Epoch 43/50: 100%|██████████████████████████████| 48/48 [00:23<00:00,  2.06it/s]\n",
      "\n"
     ]
    },
    {
     "name": "stdout",
     "output_type": "stream",
     "text": [
      "Epoch 43  Reconstruction Loss = 0.1434\n"
     ]
    },
    {
     "name": "stderr",
     "output_type": "stream",
     "text": [
      "Epoch 44/50: 100%|██████████████████████████████| 48/48 [00:22<00:00,  2.09it/s]\n",
      "\n"
     ]
    },
    {
     "name": "stdout",
     "output_type": "stream",
     "text": [
      "Epoch 44  Reconstruction Loss = 0.1423\n"
     ]
    },
    {
     "name": "stderr",
     "output_type": "stream",
     "text": [
      "Epoch 45/50: 100%|██████████████████████████████| 48/48 [00:24<00:00,  2.00it/s]\n",
      "\n"
     ]
    },
    {
     "name": "stdout",
     "output_type": "stream",
     "text": [
      "Epoch 45  Reconstruction Loss = 0.1411\n"
     ]
    },
    {
     "name": "stderr",
     "output_type": "stream",
     "text": [
      "Epoch 46/50: 100%|██████████████████████████████| 48/48 [00:23<00:00,  2.03it/s]\n",
      "\n"
     ]
    },
    {
     "name": "stdout",
     "output_type": "stream",
     "text": [
      "Epoch 46  Reconstruction Loss = 0.1398\n"
     ]
    },
    {
     "name": "stderr",
     "output_type": "stream",
     "text": [
      "Epoch 47/50: 100%|██████████████████████████████| 48/48 [00:24<00:00,  2.00it/s]\n",
      "\n"
     ]
    },
    {
     "name": "stdout",
     "output_type": "stream",
     "text": [
      "Epoch 47  Reconstruction Loss = 0.1385\n"
     ]
    },
    {
     "name": "stderr",
     "output_type": "stream",
     "text": [
      "Epoch 48/50: 100%|██████████████████████████████| 48/48 [00:22<00:00,  2.14it/s]\n",
      "\n"
     ]
    },
    {
     "name": "stdout",
     "output_type": "stream",
     "text": [
      "Epoch 48  Reconstruction Loss = 0.1372\n"
     ]
    },
    {
     "name": "stderr",
     "output_type": "stream",
     "text": [
      "Epoch 49/50: 100%|██████████████████████████████| 48/48 [00:22<00:00,  2.13it/s]\n",
      "\n"
     ]
    },
    {
     "name": "stdout",
     "output_type": "stream",
     "text": [
      "Epoch 49  Reconstruction Loss = 0.1359\n"
     ]
    },
    {
     "name": "stderr",
     "output_type": "stream",
     "text": [
      "Epoch 50/50: 100%|██████████████████████████████| 48/48 [00:22<00:00,  2.16it/s]\n",
      "\n"
     ]
    },
    {
     "name": "stdout",
     "output_type": "stream",
     "text": [
      "Epoch 50  Reconstruction Loss = 0.1347\n",
      "\n",
      "Training completed!\n"
     ]
    }
   ],
   "source": [
    "# ==========================================\n",
    "# Quantum Autoencoder Training Pipeline\n",
    "# ==========================================\n",
    "\n",
    "# Optimization configuration\n",
    "opt = qml.AdamOptimizer(stepsize=0.001)  # Adam optimizer with learning rate 0.001\n",
    "epochs = 50                              # Number of training epochs\n",
    "batch_size = 16                          # Mini-batch size for stochastic optimization\n",
    "\n",
    "# Initialize variational parameters using small random values\n",
    "# Shape: (L layers, n_qubits, 3 rotation parameters per qubit)\n",
    "# Small initialization prevents vanishing gradients in quantum circuits\n",
    "weights = pnp.random.normal(0, 0.01, (L, n_qubits, 3), requires_grad=True)\n",
    "\n",
    "# Training loop with batch-wise gradient descent\n",
    "print(\"Starting Quantum Autoencoder Training...\")\n",
    "print(f\"Dataset: {len(X_train_4d)} samples, {n_qubits} qubits, {L} layers\")\n",
    "print(\"-\" * 60)\n",
    "\n",
    "for epoch in range(epochs):\n",
    "    # Create batch indices for mini-batch training\n",
    "    batch_iter = range(0, len(X_train_4d), batch_size)\n",
    "    \n",
    "    # Process each mini-batch\n",
    "    for idx in tqdm(batch_iter, desc=f\"Epoch {epoch+1}/{epochs}\", ncols=80):        \n",
    "        # Extract current mini-batch\n",
    "        X_batch = X_train_4d[idx : idx + batch_size]\n",
    "        \n",
    "        # Perform one optimization step\n",
    "        # Lambda function captures X_batch for the optimizer\n",
    "        weights = opt.step(lambda w: cost_fn(w, X_batch), weights)\n",
    "    \n",
    "    # Evaluate training loss on a subset for monitoring\n",
    "    train_loss = cost_fn(weights, X_train_4d[:batch_size])\n",
    "    print(f\"Epoch {epoch+1:>2d}  Reconstruction Loss = {train_loss.item():.4f}\")\n",
    "\n",
    "print(\"\\nTraining completed!\")"
   ]
  },
  {
   "cell_type": "code",
   "execution_count": 11,
   "id": "c436067a",
   "metadata": {},
   "outputs": [
    {
     "name": "stdout",
     "output_type": "stream",
     "text": [
      "Computing reconstruction fidelities for test set...\n",
      "Fidelity statistics:\n",
      "  Mean: 0.8420\n",
      "  Std:  0.1912\n",
      "  Min:  0.1377\n",
      "  Max:  0.9958\n",
      "\n",
      "======================================================================\n",
      "FRAUD DETECTION PERFORMANCE EVALUATION\n",
      "======================================================================\n",
      "\n",
      "Threshold: 0.5 (Fidelity < 0.5 → Fraud)\n",
      "----------------------------------------\n",
      "Confusion Matrix: {'TN': np.int64(92), 'FP': np.int64(3), 'FN': np.int64(82), 'TP': np.int64(13)}\n",
      "Accuracy=0.5526 Precision=0.812 Recall=0.137 F1=0.234 Specificity=0.968 G-Mean=0.364\n",
      "\n",
      "Threshold: 0.6 (Fidelity < 0.6 → Fraud)\n",
      "----------------------------------------\n",
      "Confusion Matrix: {'TN': np.int64(92), 'FP': np.int64(3), 'FN': np.int64(77), 'TP': np.int64(18)}\n",
      "Accuracy=0.5789 Precision=0.857 Recall=0.189 F1=0.310 Specificity=0.968 G-Mean=0.428\n",
      "\n",
      "Threshold: 0.7 (Fidelity < 0.7 → Fraud)\n",
      "----------------------------------------\n",
      "Confusion Matrix: {'TN': np.int64(90), 'FP': np.int64(5), 'FN': np.int64(68), 'TP': np.int64(27)}\n",
      "Accuracy=0.6158 Precision=0.844 Recall=0.284 F1=0.425 Specificity=0.947 G-Mean=0.519\n",
      "\n",
      "AUC-ROC Score: 0.7827\n",
      "\n",
      "Note: AUC-ROC > 0.5 indicates better than random performance\n",
      "      Values closer to 1.0 indicate better fraud detection capability\n",
      "Fidelity statistics:\n",
      "  Mean: 0.8420\n",
      "  Std:  0.1912\n",
      "  Min:  0.1377\n",
      "  Max:  0.9958\n",
      "\n",
      "======================================================================\n",
      "FRAUD DETECTION PERFORMANCE EVALUATION\n",
      "======================================================================\n",
      "\n",
      "Threshold: 0.5 (Fidelity < 0.5 → Fraud)\n",
      "----------------------------------------\n",
      "Confusion Matrix: {'TN': np.int64(92), 'FP': np.int64(3), 'FN': np.int64(82), 'TP': np.int64(13)}\n",
      "Accuracy=0.5526 Precision=0.812 Recall=0.137 F1=0.234 Specificity=0.968 G-Mean=0.364\n",
      "\n",
      "Threshold: 0.6 (Fidelity < 0.6 → Fraud)\n",
      "----------------------------------------\n",
      "Confusion Matrix: {'TN': np.int64(92), 'FP': np.int64(3), 'FN': np.int64(77), 'TP': np.int64(18)}\n",
      "Accuracy=0.5789 Precision=0.857 Recall=0.189 F1=0.310 Specificity=0.968 G-Mean=0.428\n",
      "\n",
      "Threshold: 0.7 (Fidelity < 0.7 → Fraud)\n",
      "----------------------------------------\n",
      "Confusion Matrix: {'TN': np.int64(90), 'FP': np.int64(5), 'FN': np.int64(68), 'TP': np.int64(27)}\n",
      "Accuracy=0.6158 Precision=0.844 Recall=0.284 F1=0.425 Specificity=0.947 G-Mean=0.519\n",
      "\n",
      "AUC-ROC Score: 0.7827\n",
      "\n",
      "Note: AUC-ROC > 0.5 indicates better than random performance\n",
      "      Values closer to 1.0 indicate better fraud detection capability\n"
     ]
    }
   ],
   "source": [
    "# ==========================================\n",
    "# Model Evaluation and Fraud Detection\n",
    "# ==========================================\n",
    "\n",
    "# Compute reconstruction fidelities for test set\n",
    "# Lower fidelity indicates anomalous (potentially fraudulent) transactions\n",
    "print(\"Computing reconstruction fidelities for test set...\")\n",
    "p0_test = np.array([(qae_circuit(x, weights) + 1) / 2 for x in X_test_4d])\n",
    "\n",
    "print(f\"Fidelity statistics:\")\n",
    "print(f\"  Mean: {np.mean(p0_test):.4f}\")\n",
    "print(f\"  Std:  {np.std(p0_test):.4f}\")\n",
    "print(f\"  Min:  {np.min(p0_test):.4f}\")\n",
    "print(f\"  Max:  {np.max(p0_test):.4f}\")\n",
    "\n",
    "# ==========================================\n",
    "# Performance Metrics Evaluation\n",
    "# ==========================================\n",
    "\n",
    "def metrics(y_true, y_pred):\n",
    "    \"\"\"\n",
    "    Compute comprehensive evaluation metrics for binary classification.\n",
    "    \n",
    "    Includes standard metrics plus G-Mean which is particularly important\n",
    "    for imbalanced datasets as it balances sensitivity and specificity.\n",
    "    \"\"\"\n",
    "    tn, fp, fn, tp = confusion_matrix(y_true, y_pred, labels=[0,1]).ravel()\n",
    "    \n",
    "    # Standard classification metrics\n",
    "    acc  = accuracy_score(y_true, y_pred)\n",
    "    prec = precision_score(y_true, y_pred, zero_division=0)\n",
    "    rec  = recall_score(y_true, y_pred, zero_division=0)  # Sensitivity\n",
    "    f1   = f1_score(y_true, y_pred, zero_division=0)\n",
    "    \n",
    "    # Specificity (True Negative Rate)\n",
    "    spec = tn / (tn + fp) if (tn + fp) else 0.\n",
    "    \n",
    "    # Geometric Mean of Sensitivity and Specificity\n",
    "    # Balanced metric for imbalanced datasets\n",
    "    gmean = (rec * spec) ** 0.5\n",
    "    \n",
    "    return dict(TN=tn, FP=fp, FN=fn, TP=tp,\n",
    "                Accuracy=acc, Precision=prec,\n",
    "                Recall=rec, F1=f1, Specificity=spec, Gmean=gmean)\n",
    "\n",
    "# Evaluate performance across multiple thresholds\n",
    "print(\"\\n\" + \"=\" * 70)\n",
    "print(\"FRAUD DETECTION PERFORMANCE EVALUATION\")\n",
    "print(\"=\" * 70)\n",
    "\n",
    "for T in [0.5, 0.6, 0.7]:\n",
    "    # Classification rule: Low fidelity (p0 < T) indicates fraud\n",
    "    # This assumes normal transactions have high reconstruction fidelity\n",
    "    y_pred = (p0_test < T).astype(int)\n",
    "    \n",
    "    m = metrics(y_test, y_pred)\n",
    "    \n",
    "    print(f\"\\nThreshold: {T} (Fidelity < {T} → Fraud)\")\n",
    "    print(\"-\" * 40)\n",
    "    print(\"Confusion Matrix:\", {k:m[k] for k in [\"TN\",\"FP\",\"FN\",\"TP\"]})\n",
    "    print(\"Accuracy={Accuracy:.4f} Precision={Precision:.3f} Recall={Recall:.3f}\"\n",
    "          \" F1={F1:.3f} Specificity={Specificity:.3f} G-Mean={Gmean:.3f}\".format(**m))\n",
    "\n",
    "# Area Under the ROC Curve (threshold-independent metric)\n",
    "# Uses (1 - p0) as fraud score since lower fidelity indicates fraud\n",
    "auc = roc_auc_score(y_test, 1 - p0_test)\n",
    "print(f\"\\nAUC-ROC Score: {auc:.4f}\")\n",
    "print(\"\\nNote: AUC-ROC > 0.5 indicates better than random performance\")\n",
    "print(\"      Values closer to 1.0 indicate better fraud detection capability\")\n"
   ]
  }
 ],
 "metadata": {
  "kernelspec": {
   "display_name": "Python 3",
   "language": "python",
   "name": "python3"
  },
  "language_info": {
   "codemirror_mode": {
    "name": "ipython",
    "version": 3
   },
   "file_extension": ".py",
   "mimetype": "text/x-python",
   "name": "python",
   "nbconvert_exporter": "python",
   "pygments_lexer": "ipython3",
   "version": "3.12.9"
  }
 },
 "nbformat": 4,
 "nbformat_minor": 5
}
