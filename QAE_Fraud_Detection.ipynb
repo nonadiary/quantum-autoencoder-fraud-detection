{
 "cells": [
  {
   "cell_type": "code",
   "execution_count": 28,
   "id": "407209c0",
   "metadata": {},
   "outputs": [],
   "source": [
    "import numpy as np\n",
    "import pandas as pd\n",
    "from sklearn.preprocessing import StandardScaler\n",
    "from imblearn.under_sampling import RandomUnderSampler\n",
    "from sklearn.model_selection import train_test_split\n",
    "from sklearn.metrics import classification_report\n",
    "from tqdm import tqdm\n",
    "\n",
    "import pennylane as qml\n",
    "import pennylane.numpy as pnp  # PennyLane 전용 numpy"
   ]
  },
  {
   "cell_type": "code",
   "execution_count": null,
   "id": "9b141a8a",
   "metadata": {},
   "outputs": [],
   "source": [
    "df = pd.read_csv(\"creditcard.csv\")\n",
    "X = df.drop(\"Class\", axis=1).values\n",
    "y = df[\"Class\"].values\n",
    "\n",
    "scaler = StandardScaler()\n",
    "X_scaled = scaler.fit_transform(X)\n",
    "\n",
    "rus = RandomUnderSampler(sampling_strategy='auto', random_state=42)\n",
    "X_res, y_res = rus.fit_resample(X_scaled, y)\n",
    "\n",
    "X_train, X_test, y_train, y_test = train_test_split(\n",
    "    X_res, y_res, test_size=0.3, random_state=42\n",
    ")"
   ]
  },
  {
   "cell_type": "code",
   "execution_count": null,
   "id": "c03572c0",
   "metadata": {},
   "outputs": [],
   "source": [
    "n_qubits = 4\n",
    "L = 4\n",
    "dev = qml.device(\"default.qubit\", wires=n_qubits)\n",
    "\n",
    "@qml.qnode(dev, interface=\"autograd\")\n",
    "def circuit(weights, features):\n",
    "    # 앵글 인코딩\n",
    "    for i, x in enumerate(features[:n_qubits]):\n",
    "        qml.RX(x, wires=i)\n",
    "\n",
    "    # Variational Ansatz (4층)\n",
    "    param_idx = 0\n",
    "    for _ in range(L):\n",
    "        for w in range(n_qubits):\n",
    "            qml.RX(weights[param_idx + 0], wires=w)\n",
    "            qml.RY(weights[param_idx + 1], wires=w)\n",
    "            qml.RZ(weights[param_idx + 2], wires=w)\n",
    "            param_idx += 3\n",
    "        for w in range(n_qubits - 1):\n",
    "            qml.CNOT(wires=[w, w + 1])\n",
    "\n",
    "    # Trash qubit(4번째) Z 기대값 반환\n",
    "    return qml.expval(qml.PauliZ(n_qubits - 1))\n",
    "\n",
    "num_params = 3 * n_qubits * L"
   ]
  },
  {
   "cell_type": "code",
   "execution_count": null,
   "id": "36630627",
   "metadata": {},
   "outputs": [],
   "source": [
    "def cost_fn(weights, X_batch):\n",
    "    expvals = []\n",
    "    for sample in X_batch:\n",
    "        # 1) pnp.array로 변환, 자동미분 그래프에 포함\n",
    "        features = pnp.array(sample, requires_grad=False)\n",
    "        # circuit(weights, features) → ⟨Z⟩\n",
    "        expval = circuit(weights, features)\n",
    "        expvals.append(expval)\n",
    "     # 펜니레인에서 회로가 반환하는 것은 ⟨Z⟩. fidelity = (1 + ⟨Z⟩)/2\n",
    "    fidelities = [(1 + e) / 2 for e in expvals]\n",
    "    # reconstruction error(스칼라) = 배치 내 평균(1 - fidelity)\n",
    "    errors = [1 - f for f in fidelities]\n",
    "    return pnp.mean(pnp.stack(errors))  # 0차원 pnp.Array\n",
    "\n",
    "# PennyLane 내장 옵티마이저\n",
    "opt = qml.AdamOptimizer(stepsize=0.1)\n",
    "epochs = 20\n",
    "batch_size = 16"
   ]
  },
  {
   "cell_type": "code",
   "execution_count": null,
   "id": "6a0458f0",
   "metadata": {},
   "outputs": [
    {
     "name": "stderr",
     "output_type": "stream",
     "text": [
      "Epoch 1/20: 100%|███████████████████████████████| 43/43 [00:37<00:00,  1.16it/s]\n"
     ]
    },
    {
     "name": "stdout",
     "output_type": "stream",
     "text": [
      "Epoch  1  loss = 0.3164\n"
     ]
    },
    {
     "name": "stderr",
     "output_type": "stream",
     "text": [
      "Epoch 2/20: 100%|███████████████████████████████| 43/43 [00:36<00:00,  1.18it/s]\n"
     ]
    },
    {
     "name": "stdout",
     "output_type": "stream",
     "text": [
      "Epoch  2  loss = 0.3169\n"
     ]
    },
    {
     "name": "stderr",
     "output_type": "stream",
     "text": [
      "Epoch 3/20: 100%|███████████████████████████████| 43/43 [00:36<00:00,  1.16it/s]\n"
     ]
    },
    {
     "name": "stdout",
     "output_type": "stream",
     "text": [
      "Epoch  3  loss = 0.3043\n"
     ]
    },
    {
     "name": "stderr",
     "output_type": "stream",
     "text": [
      "Epoch 4/20: 100%|███████████████████████████████| 43/43 [00:37<00:00,  1.16it/s]\n"
     ]
    },
    {
     "name": "stdout",
     "output_type": "stream",
     "text": [
      "Epoch  4  loss = 0.3162\n"
     ]
    },
    {
     "name": "stderr",
     "output_type": "stream",
     "text": [
      "Epoch 5/20:  79%|████████████████████████▌      | 34/43 [00:29<00:07,  1.17it/s]"
     ]
    }
   ],
   "source": [
    "# 옵티마이저, 하이퍼파라미터 설정\n",
    "opt = qml.AdamOptimizer(stepsize=0.1)\n",
    "epochs = 20\n",
    "batch_size = 16\n",
    "\n",
    "# 가중치 초기화 (PennyLane numpy로)\n",
    "weights = pnp.random.randn(num_params, requires_grad=True)\n",
    "\n",
    "for epoch in range(epochs):\n",
    "    batch_iter = range(0, len(X_train), batch_size)\n",
    "    for idx in tqdm(batch_iter, desc=f\"Epoch {epoch+1}/{epochs}\", ncols=80):        \n",
    "        X_batch = X_train[idx : idx + batch_size]\n",
    "        weights = opt.step(lambda w: cost_fn(w, X_batch), weights)\n",
    "    train_loss = cost_fn(weights, X_train[:batch_size])\n",
    "    print(f\"Epoch {epoch+1:>2d}  loss = {train_loss.item():.4f}\")"
   ]
  },
  {
   "cell_type": "code",
   "execution_count": null,
   "id": "c436067a",
   "metadata": {},
   "outputs": [],
   "source": [
    "def predict_pennylane(x, weights, threshold=0.6):\n",
    "    # x: 일반 np.ndarray\n",
    "    features = pnp.array(x, requires_grad=False)\n",
    "    expval = circuit(weights, features)             # ⟨Z⟩\n",
    "    p0 = (1 + expval) / 2                            # trash qubit이 |0>일 확률\n",
    "    return 0 if p0 >= threshold else 1"
   ]
  }
 ],
 "metadata": {
  "kernelspec": {
   "display_name": "qiskit",
   "language": "python",
   "name": "python3"
  },
  "language_info": {
   "codemirror_mode": {
    "name": "ipython",
    "version": 3
   },
   "file_extension": ".py",
   "mimetype": "text/x-python",
   "name": "python",
   "nbconvert_exporter": "python",
   "pygments_lexer": "ipython3",
   "version": "3.10.16"
  }
 },
 "nbformat": 4,
 "nbformat_minor": 5
}
